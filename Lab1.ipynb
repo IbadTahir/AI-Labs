{
 "cells": [
  {
   "cell_type": "code",
   "execution_count": 4,
   "id": "4864c14c-fb5e-4e33-9d99-7d395cd01aec",
   "metadata": {},
   "outputs": [
    {
     "name": "stdout",
     "output_type": "stream",
     "text": [
      "Enter a number:  5\n"
     ]
    },
    {
     "name": "stdout",
     "output_type": "stream",
     "text": [
      "5\n",
      "8\n",
      "16\n",
      "12\n",
      "15\n"
     ]
    }
   ],
   "source": [
    "a = int(input(\"Enter a number: \"))\n",
    "print (a)\n",
    "b = a+3\n",
    "c = b*2\n",
    "d = c-4\n",
    "e = d+3\n",
    "print (b)\n",
    "print (c)\n",
    "print (d)\n",
    "print (e)"
   ]
  },
  {
   "cell_type": "code",
   "execution_count": 8,
   "id": "00996098-14cb-4811-ad93-fc8c6a98be6f",
   "metadata": {},
   "outputs": [
    {
     "name": "stdout",
     "output_type": "stream",
     "text": [
      "Enter the temperature in Celsius:  5.2\n"
     ]
    },
    {
     "name": "stdout",
     "output_type": "stream",
     "text": [
      "Temperature in Celsius is 5.2\n",
      "Temperature in Fahrenheit is 41.36\n"
     ]
    }
   ],
   "source": [
    "temp = float(input(\"Enter the temperature in Celsius: \"))\n",
    "print (\"Temperature in Celsius is\", temp)\n",
    "Fahrenheit = (temp * 1.8) + 32\n",
    "print (\"Temperature in Fahrenheit is\", Fahrenheit)"
   ]
  },
  {
   "cell_type": "code",
   "execution_count": 12,
   "id": "3ca62f34-fc3b-40e9-925d-33bd16590b35",
   "metadata": {},
   "outputs": [
    {
     "name": "stdout",
     "output_type": "stream",
     "text": [
      "Enter radius : 5\n"
     ]
    },
    {
     "name": "stdout",
     "output_type": "stream",
     "text": [
      "Radius is  5.0\n",
      "78.55\n"
     ]
    }
   ],
   "source": [
    "radius = float(input(\"Enter radius :\"))\n",
    "print (\"Radius is \", radius)\n",
    "Area = 3.142*radius*radius\n",
    "print (Area)\n"
   ]
  },
  {
   "cell_type": "code",
   "execution_count": 24,
   "id": "28ca462b-4266-4820-a514-6bcfe29020be",
   "metadata": {},
   "outputs": [
    {
     "name": "stdout",
     "output_type": "stream",
     "text": [
      "Enter your favourite color:  red\n"
     ]
    },
    {
     "name": "stdout",
     "output_type": "stream",
     "text": [
      "redredredredredredredred\n",
      "red                  red\n",
      "redredredredredredredred\n"
     ]
    }
   ],
   "source": [
    "a = str(input(\"Enter your favourite color: \"))\n",
    "print (a*8)\n",
    "print (a + \"                  \" + a)\n",
    "print (a*8)\n"
   ]
  },
  {
   "cell_type": "code",
   "execution_count": 49,
   "id": "122d132c-c758-445d-ad3d-7c88c63dba4b",
   "metadata": {},
   "outputs": [
    {
     "name": "stdout",
     "output_type": "stream",
     "text": [
      "Name with whitespace: -----Ibad Tahir-----\n",
      "After lstrip: Ibad Tahir-----\n",
      "After rstrip: -----Ibad Tahir\n",
      "After strip: Ibad Tahir\n"
     ]
    }
   ],
   "source": [
    "name = \"-----Ibad Tahir-----\"\n",
    "print(\"Name with whitespace:\", (name))\n",
    "print(\"After lstrip:\", (name.lstrip('-'))) \n",
    "print(\"After rstrip:\", (name.rstrip('-')))  \n",
    "print(\"After strip:\", (name.strip('-')))   "
   ]
  },
  {
   "cell_type": "code",
   "execution_count": 52,
   "id": "55d21dbb-7337-4069-a35a-2f865fe3ac25",
   "metadata": {},
   "outputs": [
    {
     "name": "stdout",
     "output_type": "stream",
     "text": [
      "Enter a number:  6\n"
     ]
    },
    {
     "name": "stdout",
     "output_type": "stream",
     "text": [
      "6 x 1 = 6\n",
      "6 x 2 = 12\n",
      "6 x 3 = 18\n",
      "6 x 4 = 24\n",
      "6 x 5 = 30\n",
      "6 x 6 = 36\n",
      "6 x 7 = 42\n",
      "6 x 8 = 48\n",
      "6 x 9 = 54\n",
      "6 x 10 = 60\n"
     ]
    }
   ],
   "source": [
    "num = int(input(\"Enter a number: \"))\n",
    "for i in range (1,11):\n",
    "    print (f\"{num} x {i} = {num * i}\")\n",
    "    \n"
   ]
  },
  {
   "cell_type": "code",
   "execution_count": 58,
   "id": "054c605b-f8fa-4fe6-841d-75cddc54c288",
   "metadata": {},
   "outputs": [
    {
     "name": "stdout",
     "output_type": "stream",
     "text": [
      "Islamabad is in Pakistan.\n",
      "Lahore is in Pakistan.\n",
      "Istanbul is in Turkey.\n"
     ]
    }
   ],
   "source": [
    "def describe_city(city, country=\"Pakistan\"):\n",
    "    print(f\"{city} is in {country}.\")\n",
    "    \n",
    "describe_city(\"Islamabad\")\n",
    "describe_city(\"Lahore\")\n",
    "describe_city(\"Istanbul\", \"Turkey\")"
   ]
  },
  {
   "cell_type": "code",
   "execution_count": 68,
   "id": "d782cea3-02ef-4dd8-8898-4f30cd4bcb2a",
   "metadata": {},
   "outputs": [
    {
     "name": "stdout",
     "output_type": "stream",
     "text": [
      "1000\n",
      "900\n"
     ]
    }
   ],
   "source": [
    "def absolute_num(num):\n",
    "    if num < 0:\n",
    "        return -num\n",
    "    else:\n",
    "        return num\n",
    "\n",
    "print(absolute_num(-1000)) \n",
    "print(absolute_num(900))"
   ]
  },
  {
   "cell_type": "code",
   "execution_count": 75,
   "id": "2088c7ee-936a-4962-9a3c-3109af370cd6",
   "metadata": {},
   "outputs": [
    {
     "name": "stdout",
     "output_type": "stream",
     "text": [
      "Enter an alphabet: a\n"
     ]
    },
    {
     "name": "stdout",
     "output_type": "stream",
     "text": [
      "a is a vowel\n"
     ]
    }
   ],
   "source": [
    "a = input(\"Enter an alphabet:\")\n",
    "if a in \"aeiou\":\n",
    "    print (f\"{a} is a vowel\")\n",
    "else:\n",
    "    print (f\"{a} is a consonant\")"
   ]
  },
  {
   "cell_type": "code",
   "execution_count": 81,
   "id": "f42ae708-1282-4f2a-ac52-5d75a933207d",
   "metadata": {
    "jupyter": {
     "source_hidden": true
    }
   },
   "outputs": [
    {
     "name": "stdout",
     "output_type": "stream",
     "text": [
      "Enter a number:  5\n"
     ]
    },
    {
     "name": "stdout",
     "output_type": "stream",
     "text": [
      "5 is a prime number.\n"
     ]
    }
   ],
   "source": [
    "num = int(input(\"Enter a number: \"))\n",
    "if num > 1:\n",
    "    for i in range(2, num):\n",
    "        if num % i == 0:\n",
    "            print(f\"{num} is not a prime number.\")\n",
    "            break\n",
    "    else:\n",
    "        print(f\"{num} is a prime number.\")\n",
    "else:\n",
    "    print(f\"{num} is not a prime number.\")"
   ]
  },
  {
   "cell_type": "code",
   "execution_count": 84,
   "id": "975fd15e-719c-4412-bfc3-68849f440d68",
   "metadata": {},
   "outputs": [
    {
     "name": "stdout",
     "output_type": "stream",
     "text": [
      "0\n",
      "1\n",
      "2\n",
      "4\n",
      "5\n"
     ]
    }
   ],
   "source": [
    "for i in range (7):\n",
    "    if i == 3 or i == 6:\n",
    "        continue\n",
    "    print (i)   "
   ]
  },
  {
   "cell_type": "code",
   "execution_count": 87,
   "id": "22afba55-9e0f-4ee7-aec2-aee5a341d46c",
   "metadata": {},
   "outputs": [
    {
     "name": "stdout",
     "output_type": "stream",
     "text": [
      "1 \n",
      "2 2 \n",
      "3 3 3 \n",
      "4 4 4 4 \n",
      "5 5 5 5 5 \n"
     ]
    }
   ],
   "source": [
    "for i in range(1, 6):\n",
    "    for j in range(i):\n",
    "        print(i, end=\" \")\n",
    "    print()"
   ]
  },
  {
   "cell_type": "code",
   "execution_count": 88,
   "id": "4bf18255-a33a-43cf-8cbf-aab3311525b2",
   "metadata": {},
   "outputs": [
    {
     "name": "stdout",
     "output_type": "stream",
     "text": [
      "Enter your age:  19\n"
     ]
    },
    {
     "name": "stdout",
     "output_type": "stream",
     "text": [
      "The person is a teenager.\n"
     ]
    }
   ],
   "source": [
    "age = int(input(\"Enter your age: \"))\n",
    "if age < 2:\n",
    "    print(\"The person is a baby.\")\n",
    "elif 2 <= age < 4:\n",
    "    print(\"The person is a toddler.\")\n",
    "elif 4 <= age < 13:\n",
    "    print(\"The person is a kid.\")\n",
    "elif 13 <= age < 20:\n",
    "    print(\"The person is a teenager.\")\n",
    "elif 20 <= age < 65:\n",
    "    print(\"The person is an adult.\")\n",
    "else:\n",
    "    print(\"The person is an elder.\")"
   ]
  },
  {
   "cell_type": "code",
   "execution_count": null,
   "id": "ea72a59f-3d8b-4ea5-8408-bc839628335d",
   "metadata": {},
   "outputs": [],
   "source": []
  }
 ],
 "metadata": {
  "kernelspec": {
   "display_name": "Python 3 (ipykernel)",
   "language": "python",
   "name": "python3"
  },
  "language_info": {
   "codemirror_mode": {
    "name": "ipython",
    "version": 3
   },
   "file_extension": ".py",
   "mimetype": "text/x-python",
   "name": "python",
   "nbconvert_exporter": "python",
   "pygments_lexer": "ipython3",
   "version": "3.13.0"
  }
 },
 "nbformat": 4,
 "nbformat_minor": 5
}
