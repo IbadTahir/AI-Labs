{
 "cells": [
  {
   "cell_type": "code",
   "execution_count": 15,
   "id": "7ee05b55-f96c-4410-b656-a7104001334e",
   "metadata": {},
   "outputs": [
    {
     "name": "stdout",
     "output_type": "stream",
     "text": [
      "Prediction (Play or Not): Yes\n"
     ]
    }
   ],
   "source": [
    "from sklearn.neighbors import KNeighborsClassifier\n",
    "from sklearn.preprocessing import LabelEncoder\n",
    "import numpy as np\n",
    "import pandas as pd\n",
    "\n",
    "data = {'Weather': ['Sunny', 'Sunny', 'Overcast', 'Rainy', 'Rainy', 'Rainy', 'Overcast', \n",
    "                    'Sunny', 'Sunny', 'Rainy', 'Sunny', 'Overcast', 'Overcast', 'Rainy'],\n",
    "    \n",
    "    'Temperature': ['Hot', 'Hot', 'Hot', 'Mild', 'Cool', 'Cool', 'Cool', \n",
    "                    'Mild', 'Cool', 'Mild', 'Mild', 'Mild', 'Hot', 'Mild'],\n",
    "        \n",
    "       'Play': ['No', 'No', 'Yes', 'Yes', 'Yes', 'No', 'Yes', \n",
    "                'No', 'Yes', 'Yes', 'Yes', 'Yes', 'Yes', 'No']\n",
    "}\n",
    "\n",
    "df = pd.DataFrame(data)\n",
    "le_weather = LabelEncoder()\n",
    "le_temperature = LabelEncoder()\n",
    "le_play = LabelEncoder()\n",
    "\n",
    "df['Weather'] = le_weather.fit_transform(df['Weather'])\n",
    "df['Temperature'] = le_temperature.fit_transform(df['Temperature'])\n",
    "df['Play'] = le_play.fit_transform(df['Play'])\n",
    "\n",
    "X = df[['Weather', 'Temperature']].values\n",
    "y = df['Play'].values\n",
    "\n",
    "knn = KNeighborsClassifier(n_neighbors=3) \n",
    "knn.fit(X, y)\n",
    "\n",
    "input_data = np.array([[le_weather.transform(['Overcast'])[0], \n",
    "                        le_temperature.transform(['Mild'])[0]]])\n",
    "prediction = knn.predict(input_data)\n",
    "\n",
    "play_decision = le_play.inverse_transform(prediction)\n",
    "print(\"Prediction (Play or Not):\", play_decision[0])\n"
   ]
  },
  {
   "cell_type": "code",
   "execution_count": 13,
   "id": "c4772b67-da3e-47db-bb92-8822d020916f",
   "metadata": {},
   "outputs": [
    {
     "name": "stdout",
     "output_type": "stream",
     "text": [
      "Distances from query instance to each sample:\n",
      "Distance: 3.00, Classification: Good\n",
      "Distance: 3.61, Classification: Good\n",
      "Distance: 4.00, Classification: Bad\n",
      "Distance: 5.00, Classification: Bad\n",
      "\n",
      "Predicted Classification: Good\n"
     ]
    }
   ],
   "source": [
    "import math\n",
    "\n",
    "query_instance = (3, 7)\n",
    "samples = [\n",
    "    {\"point\": (7, 7), \"classification\": \"Bad\"},\n",
    "    {\"point\": (7, 4), \"classification\": \"Bad\"},\n",
    "    {\"point\": (3, 4), \"classification\": \"Good\"},\n",
    "    {\"point\": (1, 4), \"classification\": \"Good\"}\n",
    "]\n",
    "\n",
    "def euclidean_distance(point1, point2):\n",
    "    return math.sqrt((point1[0] - point2[0]) ** 2 + (point1[1] - point2[1]) ** 2)\n",
    "\n",
    "distances = []\n",
    "for sample in samples:\n",
    "    distance = euclidean_distance(query_instance, sample[\"point\"])\n",
    "    distances.append({\"distance\": distance, \"classification\": sample[\"classification\"]})\n",
    "\n",
    "distances.sort(key=lambda x: x[\"distance\"])\n",
    "print(\"Distances from query instance to each sample:\")\n",
    "for d in distances:\n",
    "    print(f\"Distance: {d['distance']:.2f}, Classification: {d['classification']}\")\n",
    "\n",
    "predicted_classification = distances[0][\"classification\"]\n",
    "print(f\"\\nPredicted Classification: {predicted_classification}\")\n"
   ]
  },
  {
   "cell_type": "code",
   "execution_count": 14,
   "id": "a460f6e3-819f-43be-becf-2c7034c1f4c6",
   "metadata": {},
   "outputs": [
    {
     "name": "stdout",
     "output_type": "stream",
     "text": [
      "Distances from query instance to the 3 nearest neighbors:\n",
      "Distance: 3.00, Classification: Good\n",
      "Distance: 3.61, Classification: Good\n",
      "Distance: 4.00, Classification: Bad\n",
      "\n",
      "Predicted Classification (K=3): Good\n"
     ]
    }
   ],
   "source": [
    "import math\n",
    "from collections import Counter\n",
    "\n",
    "query_instance = (3, 7)\n",
    "samples = [\n",
    "    {\"point\": (7, 7), \"classification\": \"Bad\"},\n",
    "    {\"point\": (7, 4), \"classification\": \"Bad\"},\n",
    "    {\"point\": (3, 4), \"classification\": \"Good\"},\n",
    "    {\"point\": (1, 4), \"classification\": \"Good\"}\n",
    "]\n",
    "\n",
    "def euclidean_distance(point1, point2):\n",
    "    return math.sqrt((point1[0] - point2[0]) ** 2 + (point1[1] - point2[1]) ** 2)\n",
    "\n",
    "distances = []\n",
    "for sample in samples:\n",
    "    distance = euclidean_distance(query_instance, sample[\"point\"])\n",
    "    distances.append({\"distance\": distance, \"classification\": sample[\"classification\"]})\n",
    "\n",
    "K = 3\n",
    "distances.sort(key=lambda x: x[\"distance\"])\n",
    "nearest_neighbors = distances[:K]\n",
    "\n",
    "print(\"Distances from query instance to the 3 nearest neighbors:\")\n",
    "for d in nearest_neighbors:\n",
    "    print(f\"Distance: {d['distance']:.2f}, Classification: {d['classification']}\")\n",
    "\n",
    "classifications = [neighbor[\"classification\"] for neighbor in nearest_neighbors]\n",
    "\n",
    "predicted_classification = Counter(classifications).most_common(1)[0][0]\n",
    "print(f\"\\nPredicted Classification (K=3): {predicted_classification}\")\n"
   ]
  },
  {
   "cell_type": "code",
   "execution_count": null,
   "id": "33630c34-cf72-4f9e-99b6-d3b424937f4a",
   "metadata": {},
   "outputs": [],
   "source": []
  }
 ],
 "metadata": {
  "kernelspec": {
   "display_name": "Python 3 (ipykernel)",
   "language": "python",
   "name": "python3"
  },
  "language_info": {
   "codemirror_mode": {
    "name": "ipython",
    "version": 3
   },
   "file_extension": ".py",
   "mimetype": "text/x-python",
   "name": "python",
   "nbconvert_exporter": "python",
   "pygments_lexer": "ipython3",
   "version": "3.13.0"
  }
 },
 "nbformat": 4,
 "nbformat_minor": 5
}
