{
 "cells": [
  {
   "cell_type": "code",
   "execution_count": 36,
   "id": "582b62f8-8ef5-41e4-b8bf-7965f87e0b90",
   "metadata": {},
   "outputs": [
    {
     "name": "stdout",
     "output_type": "stream",
     "text": [
      "Contents of Sheet 1:\n",
      "   Unnamed: 0 Unnamed: 1  Unnamed: 2 Unnamed: 3\n",
      "0         NaN        NaN         NaN        NaN\n",
      "1         NaN        NaN         NaN        NaN\n",
      "2         NaN       Name  Department   Semester\n",
      "3         NaN       Ibad          SE        5th\n",
      "4         NaN      Hamza          SE        5th\n",
      "5         NaN     Rashid          SE        5th\n",
      "6         NaN       Taqi          SE        5th\n",
      "7         NaN      Arqum          SE        5th\n",
      "8         NaN       Umer          SE        5th\n",
      "\n",
      "----------------------------------------\n",
      "\n",
      "Contents of Sheet 2:\n",
      "   Unnamed: 0 Unnamed: 1  Unnamed: 2 Unnamed: 3\n",
      "0         NaN        NaN         NaN        NaN\n",
      "1         NaN        NaN         NaN        NaN\n",
      "2         NaN        NaN         NaN        NaN\n",
      "3         NaN       Name  Department   Semester\n",
      "4         NaN     Sameer          SE        3rd\n",
      "5         NaN    Huzaifa         BBA        1st\n",
      "6         NaN       Hadi          CS        1st\n",
      "7         NaN      Ammar          CS        1st\n",
      "8         NaN       Ibad          SE        5th\n",
      "9         NaN       Anas          CS        8th\n"
     ]
    }
   ],
   "source": [
    "import pandas as pd\n",
    "sheets = pd.read_excel(r'C:\\Users\\Ibad\\Documents\\sample1.xlsx', sheet_name=[0, 1])\n",
    "print(\"Contents of Sheet 1:\")\n",
    "print(sheets[0])\n",
    "print(\"\\n\" + \"-\"*40 + \"\\n\")\n",
    "print(\"Contents of Sheet 2:\")\n",
    "print(sheets[1])\n"
   ]
  },
  {
   "cell_type": "code",
   "execution_count": 16,
   "id": "b68b479e-e860-4588-b465-5bd8cda7c273",
   "metadata": {},
   "outputs": [
    {
     "name": "stdout",
     "output_type": "stream",
     "text": [
      "        Math  Science  English  History\n",
      "Ali       85       89       93       80\n",
      "Amir      92       76       82       84\n",
      "Kamran    78       91       88       76\n",
      "Ibad      90       85       79       88\n",
      "Arqum     88       94       87       91\n"
     ]
    }
   ],
   "source": [
    "import pandas as pd\n",
    "data = {\n",
    "    'Math': [85, 92, 78, 90, 88],\n",
    "    'Science': [89, 76, 91, 85, 94],\n",
    "    'English': [93, 82, 88, 79, 87],\n",
    "    'History': [80, 84, 76, 88, 91]}\n",
    "\n",
    "index_labels = ['Ali', 'Amir', 'Kamran', 'Ibad', 'Arqum']\n",
    "df = pd.DataFrame(data, index=index_labels)\n",
    "print(df)\n"
   ]
  },
  {
   "cell_type": "code",
   "execution_count": 17,
   "id": "3f5f02eb-33c9-40a6-bcaa-789cc52d84bb",
   "metadata": {},
   "outputs": [
    {
     "name": "stdout",
     "output_type": "stream",
     "text": [
      "   Unnamed: 0 Unnamed: 1\n",
      "0         NaN        NaN\n",
      "1         NaN        NaN\n",
      "2         NaN       Name\n",
      "3         NaN       Ibad\n",
      "4         NaN      Hamza\n",
      "5         NaN     Rashid\n",
      "6         NaN       Taqi\n",
      "7         NaN      Arqum\n",
      "8         NaN       Umer\n"
     ]
    }
   ],
   "source": [
    "import pandas as pd\n",
    "file_path = r'C:\\Users\\Ibad\\Documents\\sample1.xlsx'  \n",
    "df = pd.read_excel(file_path)\n",
    "print(df.iloc[:, :2])\n"
   ]
  },
  {
   "cell_type": "code",
   "execution_count": 18,
   "id": "6bb7cacf-da02-4430-804c-e08ddf7c56ca",
   "metadata": {},
   "outputs": [
    {
     "name": "stdout",
     "output_type": "stream",
     "text": [
      "   Unnamed: 0 Unnamed: 1  Unnamed: 2 Unnamed: 3\n",
      "0         NaN       Name  Department   Semester\n",
      "1         NaN       Ibad          SE        5th\n",
      "2         NaN      Hamza          SE        5th\n",
      "3         NaN     Rashid          SE        5th\n",
      "4         NaN       Taqi          SE        5th\n",
      "5         NaN      Arqum          SE        5th\n",
      "6         NaN       Umer          SE        5th\n"
     ]
    }
   ],
   "source": [
    "import pandas as pd\n",
    "file_path = r'C:\\Users\\Ibad\\Documents\\sample1.xlsx'\n",
    "df = pd.read_excel(file_path, skiprows=2)\n",
    "print(df)\n"
   ]
  },
  {
   "cell_type": "code",
   "execution_count": 28,
   "id": "02536b51-6756-499f-a887-b497b6ec7649",
   "metadata": {},
   "outputs": [
    {
     "name": "stdout",
     "output_type": "stream",
     "text": [
      "       GENDER  AGE  SMOKING  YELLOW_FINGERS  ANXIETY  PEER_PRESSURE  \\\n",
      "10          F   61        2               2        2              2   \n",
      "11          M   72        1               1        1              1   \n",
      "12          F   60        2               1        1              1   \n",
      "13          M   58        2               1        1              1   \n",
      "14          M   69        2               1        1              1   \n",
      "15          F   48        1               2        2              2   \n",
      "16          M   75        2               1        1              1   \n",
      "17          M   57        2               2        2              2   \n",
      "18          F   68        2               2        2              2   \n",
      "19          F   61        1               1        1              1   \n",
      "20          F   44        2               2        2              2   \n",
      "21          F   64        1               2        2              2   \n",
      "22          F   21        2               1        1              1   \n",
      "23          M   60        2               1        1              1   \n",
      "24          M   72        2               2        2              2   \n",
      "25          M   65        1               2        2              1   \n",
      "26          F   61        2               2        2              1   \n",
      "27          M   69        1               1        1              2   \n",
      "28  No Gender   53        2               2        2              1   \n",
      "29          M   55        1               2        1              1   \n",
      "30          F   57        2               2        1              1   \n",
      "\n",
      "    CHRONIC DISEASE  FATIGUE   ALLERGY   WHEEZING  ALCOHOL CONSUMING  \\\n",
      "10                2         2         1         2                  1   \n",
      "11                2         2         2         2                  2   \n",
      "12                1         2         1         1                  1   \n",
      "13                1         2         2         2                  2   \n",
      "14                1         1         2         2                  2   \n",
      "15                2         2         2         2                  1   \n",
      "16                2         1         2         2                  2   \n",
      "17                2         1         1         1                  2   \n",
      "18                2         2         1         1                  1   \n",
      "19                2         2         1         1                  1   \n",
      "20                2         2         1         1                  1   \n",
      "21                1         1         2         2                  1   \n",
      "22                2         2         2         1                  1   \n",
      "23                1         2         2         2                  2   \n",
      "24                2         1         2         2                  2   \n",
      "25                1         2         1         2                  2   \n",
      "26                1         2         2         1                  2   \n",
      "27                1         2         1         2                  1   \n",
      "28                2         1         1         2                  2   \n",
      "29                1         2         1         2                  2   \n",
      "30                1         1         1         1                  1   \n",
      "\n",
      "    COUGHING  SHORTNESS OF BREATH  SWALLOWING DIFFICULTY  CHEST PAIN  \\\n",
      "10         2                    2                      2           1   \n",
      "11         2                    2                      1           2   \n",
      "12         1                    2                      1           1   \n",
      "13         2                    2                      1           2   \n",
      "14         2                    1                      1           2   \n",
      "15         2                    2                      2           1   \n",
      "16         2                    2                      1           2   \n",
      "17         1                    1                      2           2   \n",
      "18         2                    2                      1           1   \n",
      "19         1                    2                      1           1   \n",
      "20         1                    2                      2           1   \n",
      "21         2                    1                      2           1   \n",
      "22         1                    2                      1           1   \n",
      "23         2                    2                      1           2   \n",
      "24         2                    1                      2           2   \n",
      "25         2                    2                      2           2   \n",
      "26         1                    2                      2           2   \n",
      "27         2                    2                      1           2   \n",
      "28         1                    2                      2           2   \n",
      "29         2                    2                      1           1   \n",
      "30         1                    2                      1           1   \n",
      "\n",
      "   LUNG_CANCER  \n",
      "10         YES  \n",
      "11         YES  \n",
      "12          NO  \n",
      "13         YES  \n",
      "14          NO  \n",
      "15         YES  \n",
      "16         YES  \n",
      "17         YES  \n",
      "18         YES  \n",
      "19          NO  \n",
      "20         YES  \n",
      "21         YES  \n",
      "22          NO  \n",
      "23         YES  \n",
      "24         YES  \n",
      "25         YES  \n",
      "26         YES  \n",
      "27          NO  \n",
      "28         YES  \n",
      "29          NO  \n",
      "30          NO  \n"
     ]
    }
   ],
   "source": [
    "import pandas as pd\n",
    "df = pd.read_csv('lung cancer data.csv')\n",
    "df['GENDER'] = df['GENDER'].fillna('No Gender')\n",
    "print(df.iloc[10:31])\n"
   ]
  },
  {
   "cell_type": "code",
   "execution_count": 37,
   "id": "96d32fc8-1264-49a7-b7cb-6dec9f26f62b",
   "metadata": {},
   "outputs": [
    {
     "name": "stdout",
     "output_type": "stream",
     "text": [
      "Min-Max Normalized Data:\n",
      "   Age  Salary  Age_minmax  Salary_minmax\n",
      "0   25   42000    0.000000           0.00\n",
      "1   36   50000    0.647059           0.40\n",
      "2   30   45000    0.294118           0.15\n",
      "3   27   43000    0.117647           0.05\n",
      "4   38   51000    0.764706           0.45\n",
      "5   42   62000    1.000000           1.00\n",
      "6   34   48000    0.529412           0.30\n"
     ]
    }
   ],
   "source": [
    "import pandas as pd\n",
    "import numpy as np\n",
    "\n",
    "data = {'Age': [25, 36, 30, 27, 38, 42, 34],\n",
    "        'Salary': [42000, 50000, 45000, 43000, 51000, 62000, 48000]}\n",
    "\n",
    "df = pd.DataFrame(data)\n",
    "df['Age_minmax'] = (df['Age'] - df['Age'].min()) / (df['Age'].max() - df['Age'].min())\n",
    "df['Salary_minmax'] = (df['Salary'] - df['Salary'].min()) / (df['Salary'].max() - df['Salary'].min())\n",
    "\n",
    "print(\"Min-Max Normalized Data:\")\n",
    "print(df[['Age', 'Salary', 'Age_minmax', 'Salary_minmax']])\n"
   ]
  },
  {
   "cell_type": "code",
   "execution_count": 38,
   "id": "9dad88db-e469-4d32-81e3-17d351cc2cec",
   "metadata": {},
   "outputs": [
    {
     "name": "stdout",
     "output_type": "stream",
     "text": [
      "Standardized Data:\n",
      "   Age  Salary  Age_standardized  Salary_standardized\n",
      "0   25   42000         -1.330145            -0.990994\n",
      "1   36   50000          0.466718             0.189765\n",
      "2   30   45000         -0.513389            -0.548209\n",
      "3   27   43000         -1.003443            -0.843399\n",
      "4   38   51000          0.793420             0.337360\n",
      "5   42   62000          1.446825             1.960903\n",
      "6   34   48000          0.140015            -0.105425\n"
     ]
    }
   ],
   "source": [
    "df['Age_standardized'] = (df['Age'] - df['Age'].mean()) / df['Age'].std()\n",
    "df['Salary_standardized'] = (df['Salary'] - df['Salary'].mean()) / df['Salary'].std()\n",
    "\n",
    "print(\"Standardized Data:\")\n",
    "print(df[['Age', 'Salary', 'Age_standardized', 'Salary_standardized']])\n"
   ]
  },
  {
   "cell_type": "code",
   "execution_count": 35,
   "id": "c9762d25-dd31-4377-9e72-c2dd725c4392",
   "metadata": {},
   "outputs": [
    {
     "name": "stdout",
     "output_type": "stream",
     "text": [
      "Interpolated Data:\n",
      "   First Score  Second Score  Third Score\n",
      "0        100.0          30.0         40.0\n",
      "1         90.0          45.0         40.0\n",
      "2         95.0          56.0         80.0\n",
      "3         95.0           NaN         98.0\n"
     ]
    }
   ],
   "source": [
    "data_dict = {\n",
    "    'First Score': [100, 90, np.nan, 95],\n",
    "    'Second Score': [30, 45, 56, np.nan],\n",
    "    'Third Score': [np.nan, 40, 80, 98]\n",
    "}\n",
    "\n",
    "df_scores = pd.DataFrame(data_dict)\n",
    "df_scores_interpolated = df_scores.bfill()\n",
    "print(\"Interpolated Data:\")\n",
    "print(df_scores_interpolated)\n",
    "\n"
   ]
  },
  {
   "cell_type": "code",
   "execution_count": null,
   "id": "ca1275be-412b-4bfa-91a6-7cb77c9c3a9a",
   "metadata": {},
   "outputs": [],
   "source": []
  }
 ],
 "metadata": {
  "kernelspec": {
   "display_name": "Python 3 (ipykernel)",
   "language": "python",
   "name": "python3"
  },
  "language_info": {
   "codemirror_mode": {
    "name": "ipython",
    "version": 3
   },
   "file_extension": ".py",
   "mimetype": "text/x-python",
   "name": "python",
   "nbconvert_exporter": "python",
   "pygments_lexer": "ipython3",
   "version": "3.13.0"
  }
 },
 "nbformat": 4,
 "nbformat_minor": 5
}
